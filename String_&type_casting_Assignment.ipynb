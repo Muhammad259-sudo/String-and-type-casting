{
  "nbformat": 4,
  "nbformat_minor": 0,
  "metadata": {
    "colab": {
      "provenance": []
    },
    "kernelspec": {
      "name": "python3",
      "display_name": "Python 3"
    },
    "language_info": {
      "name": "python"
    }
  },
  "cells": [
    {
      "cell_type": "markdown",
      "source": [
        "1: Create a variable with your name and print each character using a loop"
      ],
      "metadata": {
        "id": "LRE-y7XcpL4l"
      }
    },
    {
      "cell_type": "code",
      "execution_count": 1,
      "metadata": {
        "colab": {
          "base_uri": "https://localhost:8080/"
        },
        "id": "bt5e-vkQpJSl",
        "outputId": "2168bf71-25c9-48e7-ab84-05164c071829"
      },
      "outputs": [
        {
          "output_type": "stream",
          "name": "stdout",
          "text": [
            "A\n",
            "l\n",
            "i\n"
          ]
        }
      ],
      "source": [
        "my_name=\"Ali\"\n",
        "for char in my_name:\n",
        "    print(char)"
      ]
    },
    {
      "cell_type": "markdown",
      "source": [
        "2: Using slicing to print first 4 character of a string."
      ],
      "metadata": {
        "id": "swNDfgLXqRdJ"
      }
    },
    {
      "cell_type": "code",
      "source": [
        "text=\"Python\"\n",
        "print(text[0:4])"
      ],
      "metadata": {
        "colab": {
          "base_uri": "https://localhost:8080/"
        },
        "id": "lLBBcG_mqy4d",
        "outputId": "cd320111-fe5b-47ce-8411-9ebeb11fba1c"
      },
      "execution_count": null,
      "outputs": [
        {
          "output_type": "stream",
          "name": "stdout",
          "text": [
            "Pyth\n"
          ]
        }
      ]
    },
    {
      "cell_type": "markdown",
      "source": [
        "3: Ask the user to input a number as a string, convert it into int add 10 and print the result"
      ],
      "metadata": {
        "id": "RrlrkgArrLuA"
      }
    },
    {
      "cell_type": "code",
      "source": [
        "num=20\n",
        "result=num+10\n",
        "print(result)"
      ],
      "metadata": {
        "colab": {
          "base_uri": "https://localhost:8080/"
        },
        "id": "aTh-VgUPrxfu",
        "outputId": "f626eedf-ac4b-4446-d02d-3e79dad46fb1"
      },
      "execution_count": null,
      "outputs": [
        {
          "output_type": "stream",
          "name": "stdout",
          "text": [
            "30\n"
          ]
        }
      ]
    },
    {
      "cell_type": "markdown",
      "source": [
        "4: Convrt list of srting number to integer"
      ],
      "metadata": {
        "id": "2aeWPmTqs-vC"
      }
    },
    {
      "cell_type": "code",
      "source": [
        "str_list=[\"1\",\"2\",\"3\",\"4\",\"5\"]\n",
        "int_list=['Python']\n",
        "print(int_list)"
      ],
      "metadata": {
        "colab": {
          "base_uri": "https://localhost:8080/"
        },
        "id": "GQdCzrEptb_-",
        "outputId": "a057110e-a0bc-4c32-98e3-c0805eb2a6f3"
      },
      "execution_count": null,
      "outputs": [
        {
          "output_type": "stream",
          "name": "stdout",
          "text": [
            "['Python']\n"
          ]
        }
      ]
    },
    {
      "cell_type": "markdown",
      "source": [
        "5: Cheak if python is in a string and print a message."
      ],
      "metadata": {
        "id": "q4k4TKZHvGuc"
      }
    },
    {
      "cell_type": "code",
      "source": [
        "sentence =\"I am learing python programming\"\n",
        "if \"python\" in sentence:\n",
        "  print(\"Yes! Python is in the string:\")"
      ],
      "metadata": {
        "colab": {
          "base_uri": "https://localhost:8080/"
        },
        "id": "JU8pE1SMwB_h",
        "outputId": "99ceba63-bdf7-4f91-b660-6c5a67df265c"
      },
      "execution_count": null,
      "outputs": [
        {
          "output_type": "stream",
          "name": "stdout",
          "text": [
            "Yes! Python is in the string:\n"
          ]
        }
      ]
    },
    {
      "cell_type": "markdown",
      "source": [
        "6: Convrt string to uppercase, lowercase and title case."
      ],
      "metadata": {
        "id": "yxZZ9OaZw2Dl"
      }
    },
    {
      "cell_type": "code",
      "source": [
        "my_str=\"Hello! world,\"\n",
        "print(my_str.upper())\n",
        "print(my_str.lower())\n",
        "print(my_str.title())"
      ],
      "metadata": {
        "colab": {
          "base_uri": "https://localhost:8080/"
        },
        "id": "l2ULgISkw08_",
        "outputId": "8ec1d0f6-c5a0-4b83-ccae-51ea96f474c6"
      },
      "execution_count": null,
      "outputs": [
        {
          "output_type": "stream",
          "name": "stdout",
          "text": [
            "HELLO! WORLD,\n",
            "hello! world,\n",
            "Hello! World,\n"
          ]
        }
      ]
    },
    {
      "cell_type": "markdown",
      "source": [
        "7: Use type ()befor nd after casting from str to int"
      ],
      "metadata": {
        "id": "butxOV46yI-K"
      }
    },
    {
      "cell_type": "code",
      "source": [
        "num_str=\"python\"\n",
        "num_int=(1,2,3)\n",
        "print(type(num_str))\n",
        "print(type(num_int))\n"
      ],
      "metadata": {
        "colab": {
          "base_uri": "https://localhost:8080/"
        },
        "id": "9ZdaBgDUyIQY",
        "outputId": "955db208-690c-4ff8-f0b1-23f03016d7c3"
      },
      "execution_count": null,
      "outputs": [
        {
          "output_type": "stream",
          "name": "stdout",
          "text": [
            "<class 'str'>\n",
            "<class 'tuple'>\n"
          ]
        }
      ]
    },
    {
      "cell_type": "markdown",
      "source": [
        "8: Take user input name and age, cheak if age >18."
      ],
      "metadata": {
        "id": "gzZ0F45B0BGY"
      }
    },
    {
      "cell_type": "code",
      "source": [
        "name= [\"Ayesha\"]\n",
        "age=[18]\n",
        "print(name, age)"
      ],
      "metadata": {
        "colab": {
          "base_uri": "https://localhost:8080/"
        },
        "id": "zz8M-O9Y0ArV",
        "outputId": "1994e425-9d0d-41ef-b7e6-ea56e9f64d8b"
      },
      "execution_count": null,
      "outputs": [
        {
          "output_type": "stream",
          "name": "stdout",
          "text": [
            "['Ayesha'] [18]\n"
          ]
        }
      ]
    },
    {
      "cell_type": "markdown",
      "source": [
        "9: Check if a mixed_case text uppercase."
      ],
      "metadata": {
        "id": "ElWiIEOzEErI"
      }
    },
    {
      "cell_type": "code",
      "source": [
        "mixed_case=\"Hello! world,\"\n",
        "print(mixed_case.isupper())"
      ],
      "metadata": {
        "colab": {
          "base_uri": "https://localhost:8080/"
        },
        "id": "RUGnqPn6Eqa1",
        "outputId": "a61d3c23-c252-4f61-8a6f-789c89c7adca"
      },
      "execution_count": null,
      "outputs": [
        {
          "output_type": "stream",
          "name": "stdout",
          "text": [
            "False\n"
          ]
        }
      ]
    },
    {
      "cell_type": "markdown",
      "source": [
        "10: Convrt a numeric string to float an int and show type."
      ],
      "metadata": {
        "id": "hWaBKUAiFKc8"
      }
    },
    {
      "cell_type": "code",
      "source": [
        "value=17.13\n",
        "float_value=float(value)\n",
        "int_value=int(value)\n",
        "print(float_value)\n",
        "print(int_value)\n",
        "print(type(float_value))\n",
        "print(type(int_value))"
      ],
      "metadata": {
        "colab": {
          "base_uri": "https://localhost:8080/"
        },
        "id": "9WIVFm5rFJ9r",
        "outputId": "2d22b7d9-90b6-4a17-fc0b-99e14d944bd8"
      },
      "execution_count": null,
      "outputs": [
        {
          "output_type": "stream",
          "name": "stdout",
          "text": [
            "17.13\n",
            "17\n",
            "<class 'float'>\n",
            "<class 'int'>\n"
          ]
        }
      ]
    }
  ]
}